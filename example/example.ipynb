{
 "cells": [
  {
   "cell_type": "markdown",
   "metadata": {
    "collapsed": false,
    "jupyter": {
     "outputs_hidden": false
    },
    "pycharm": {
     "name": "#%% md\n"
    }
   },
   "source": [
    "# NeoAgDT usage example\n",
    "This notebook can be run step by step or the commands can be directly out into a console. All files that are generated are already present, it is possible to skip steps and only view results for example.\n",
    "This example is based on randomly generated data and has no biological meaning."
   ]
  },
  {
   "cell_type": "code",
   "execution_count": 5,
   "metadata": {
    "collapsed": false,
    "jupyter": {
     "outputs_hidden": false
    },
    "pycharm": {
     "name": "#%%\n"
    }
   },
   "outputs": [
    {
     "name": "stderr",
     "output_type": "stream",
     "text": [
      "/Users/nle87788/PycharmProjects/neoagdt/venv/lib/python3.9/site-packages/urllib3/__init__.py:34: NotOpenSSLWarning: urllib3 v2.0 only supports OpenSSL 1.1.1+, currently the 'ssl' module is compiled with 'LibreSSL 2.8.3'. See: https://github.com/urllib3/urllib3/issues/3020\n",
      "  warnings.warn(\n",
      "INFO     pyllars.utils 2023-10-23 19:40:39,631 : Reading config file\n",
      "INFO     neoag_dt.cli.simulate_neoag_cancer_cells 2023-10-23 19:40:39,757 : Mutations {'ENSG00000183310_L>P', 'ENSG00000182400_nan', 'ENSG00000136881_C>R', 'ENSG00000198003_E>K', 'ENSG00000136141_V>G', 'ENSG00000132561_L>S', 'ENSG00000080603_nan', 'ENSG00000164188_K>E', 'ENSG00000198822_Y>S', 'ENSG00000140983_K>E', 'ENSG00000182218_W>R', 'ENSG00000149187_nan', 'ENSG00000171060_K>E', 'ENSG00000149646_N>S', 'ENSG00000168495_Q>R', 'ENSG00000124177_Q>R', 'ENSG00000121879_L>H', 'ENSG00000130544_nan', 'ENSG00000159023_V>I', 'ENSG00000105865_P>S', 'ENSG00000165996_nan', 'ENSG00000124587_V>F', 'ENSG00000137252_nan', 'ENSG00000239713_H>R', 'ENSG00000159210_M>V', 'ENSG00000123104_Q>H', 'ENSG00000005436_I>T', 'ENSG00000107897_Q>H', 'ENSG00000173517_Q>R', 'ENSG00000198001_nan', 'ENSG00000151655_N>D', 'ENSG00000005108_nan', 'ENSG00000141510_nan', 'ENSG00000097096_G>S', 'ENSG00000144357_Q>R', 'ENSG00000138623_S>G'} excluded because not common to both variants AND peptides dataframes\n",
      "INFO     neoag_dt.cli.simulate_neoag_cancer_cells 2023-10-23 19:40:39,757 : Mutations {'ENSG00000105289_E>Q', 'ENSG00000168843_F>L', 'ENSG00000112769_I>V', 'ENSG00000170959_F>C', 'ENSG00000204619_Q>R', 'ENSG00000163171_L>F', 'ENSG00000149428_W>R', 'ENSG00000197451_D>E', 'ENSG00000198799_S>P', 'ENSG00000170782_N>K', 'ENSG00000081800_I>V', 'ENSG00000101811_S>P'} considered because common to both variants AND peptides dataframes\n",
      "INFO     neoag_dt.cli.simulate_neoag_cancer_cells 2023-10-23 19:40:39,759 : Creating domain objects\n",
      "100%|██████████| 63582/63582 [00:02<00:00, 23273.60it/s]\n",
      "100%|██████████| 3960/3960 [00:00<00:00, 24612.31it/s]\n",
      "100%|██████████| 199/199 [00:00<00:00, 28012.70it/s]\n",
      "INFO     neoag_dt.cli.simulate_neoag_cancer_cells 2023-10-23 19:40:42,727 : Building the binding and presentation score caches\n",
      "INFO     neoag_dt.cli.simulate_neoag_cancer_cells 2023-10-23 19:40:42,727 : Starting cancer cells simulations `1000-cells.10x`: 1000 cells x 10 repetitions\n",
      "INFO     neoag_dt.cli.simulate_neoag_cancer_cells 2023-10-23 19:40:42,728 : Creating simulation objects\n",
      "INFO     neoag_dt.cli.simulate_neoag_cancer_cells 2023-10-23 19:40:42,728 : Simulating the cells\n",
      "100%|██████████| 1000/1000 [00:01<00:00, 777.12it/s]\n",
      "INFO     neoag_dt.cli.simulate_neoag_cancer_cells 2023-10-23 19:40:44,015 : Creating simulation objects\n",
      "INFO     neoag_dt.cli.simulate_neoag_cancer_cells 2023-10-23 19:40:44,015 : Simulating the cells\n",
      "100%|██████████| 1000/1000 [00:01<00:00, 814.63it/s]\n",
      "INFO     neoag_dt.cli.simulate_neoag_cancer_cells 2023-10-23 19:40:45,243 : Creating simulation objects\n",
      "INFO     neoag_dt.cli.simulate_neoag_cancer_cells 2023-10-23 19:40:45,243 : Simulating the cells\n",
      "100%|██████████| 1000/1000 [00:01<00:00, 765.77it/s]\n",
      "INFO     neoag_dt.cli.simulate_neoag_cancer_cells 2023-10-23 19:40:46,549 : Creating simulation objects\n",
      "INFO     neoag_dt.cli.simulate_neoag_cancer_cells 2023-10-23 19:40:46,549 : Simulating the cells\n",
      "100%|██████████| 1000/1000 [00:01<00:00, 818.53it/s]\n",
      "INFO     neoag_dt.cli.simulate_neoag_cancer_cells 2023-10-23 19:40:47,771 : Creating simulation objects\n",
      "INFO     neoag_dt.cli.simulate_neoag_cancer_cells 2023-10-23 19:40:47,772 : Simulating the cells\n",
      "100%|██████████| 1000/1000 [00:01<00:00, 830.54it/s]\n",
      "INFO     neoag_dt.cli.simulate_neoag_cancer_cells 2023-10-23 19:40:48,976 : Creating simulation objects\n",
      "INFO     neoag_dt.cli.simulate_neoag_cancer_cells 2023-10-23 19:40:48,976 : Simulating the cells\n",
      "100%|██████████| 1000/1000 [00:01<00:00, 809.41it/s]\n",
      "INFO     neoag_dt.cli.simulate_neoag_cancer_cells 2023-10-23 19:40:50,212 : Creating simulation objects\n",
      "INFO     neoag_dt.cli.simulate_neoag_cancer_cells 2023-10-23 19:40:50,212 : Simulating the cells\n",
      "100%|██████████| 1000/1000 [00:01<00:00, 763.38it/s]\n",
      "INFO     neoag_dt.cli.simulate_neoag_cancer_cells 2023-10-23 19:40:51,522 : Creating simulation objects\n",
      "INFO     neoag_dt.cli.simulate_neoag_cancer_cells 2023-10-23 19:40:51,522 : Simulating the cells\n",
      "100%|██████████| 1000/1000 [00:01<00:00, 816.38it/s]\n",
      "INFO     neoag_dt.cli.simulate_neoag_cancer_cells 2023-10-23 19:40:52,748 : Creating simulation objects\n",
      "INFO     neoag_dt.cli.simulate_neoag_cancer_cells 2023-10-23 19:40:52,748 : Simulating the cells\n",
      "100%|██████████| 1000/1000 [00:01<00:00, 803.08it/s]\n",
      "INFO     neoag_dt.cli.simulate_neoag_cancer_cells 2023-10-23 19:40:53,993 : Creating simulation objects\n",
      "INFO     neoag_dt.cli.simulate_neoag_cancer_cells 2023-10-23 19:40:53,994 : Simulating the cells\n",
      "100%|██████████| 1000/1000 [00:01<00:00, 808.83it/s]\n",
      "INFO     neoag_dt.cli.simulate_neoag_cancer_cells 2023-10-23 19:40:55,257 : Writing simulated cells to disk: 'results/cell-populations.csv'\n"
     ]
    },
    {
     "data": {
      "text/plain": [
       "0"
      ]
     },
     "execution_count": 5,
     "metadata": {},
     "output_type": "execute_result"
    }
   ],
   "source": [
    "# Simulation of the individual cells stored in cell-population.csv\n",
    "import subprocess\n",
    "subprocess.call(\"simulate-cancer-cells cells-config.yaml --logging-level INFO\", shell=True)"
   ]
  },
  {
   "cell_type": "code",
   "execution_count": 7,
   "metadata": {
    "collapsed": false,
    "jupyter": {
     "outputs_hidden": false
    },
    "pycharm": {
     "name": "#%%\n"
    }
   },
   "outputs": [
    {
     "name": "stderr",
     "output_type": "stream",
     "text": [
      "/Users/nle87788/PycharmProjects/neoagdt/venv/lib/python3.9/site-packages/urllib3/__init__.py:34: NotOpenSSLWarning: urllib3 v2.0 only supports OpenSSL 1.1.1+, currently the 'ssl' module is compiled with 'LibreSSL 2.8.3'. See: https://github.com/urllib3/urllib3/issues/3020\n",
      "  warnings.warn(\n",
      "INFO     neoag_dt.cli.optimize_vaccine_ilp 2023-10-23 19:54:37,201 : loading the optimization config file\n",
      "INFO     pyllars.utils 2023-10-23 19:54:37,201 : Reading config file\n",
      "INFO     neoag_dt.cli.optimize_vaccine_ilp 2023-10-23 19:54:37,204 : performing simulation: MinSum.budget-10.adaptive\n",
      "INFO     neoag_dt.cli.optimize_vaccine_ilp 2023-10-23 19:54:37,205 : loading the simulation config file\n",
      "INFO     pyllars.utils 2023-10-23 19:54:37,205 : Reading config file\n",
      "INFO     neoag_dt.cli.optimize_vaccine_ilp 2023-10-23 19:54:37,210 : connecting to the dask cluster\n",
      "INFO     pyllars.dask_utils 2023-10-23 19:54:37,210 : [dask_utils]: starting local dask cluster\n",
      "INFO     neoag_dt.cli.optimize_vaccine_ilp 2023-10-23 19:54:39,550 : running jobs on the dask cluster\n",
      "100%|██████████| 10/10 [00:00<00:00, 2272.72it/s]\n",
      "  0%|          | 0/10 [00:00<?, ?it/s]/Users/nle87788/PycharmProjects/neoagdt/venv/lib/python3.9/site-packages/urllib3/__init__.py:34: NotOpenSSLWarning: urllib3 v2.0 only supports OpenSSL 1.1.1+, currently the 'ssl' module is compiled with 'LibreSSL 2.8.3'. See: https://github.com/urllib3/urllib3/issues/3020\n",
      "  warnings.warn(\n",
      "INFO     neoag_dt.cli.optimize_vaccine_ilp 2023-10-23 19:54:41,859 : optimizing simulation: ('1000-cells.10x', 0, 1000)\n",
      "INFO     neoag_dt.cli.optimize_vaccine_ilp 2023-10-23 19:54:41,859 : loading simulated_cells\n",
      "INFO     neoag_dt.cli.optimize_vaccine_ilp 2023-10-23 19:54:41,895 : loading vaccine element candidates\n",
      "INFO     neoag_dt.cli.optimize_vaccine_ilp 2023-10-23 19:54:41,903 : approximating log-probabilities of no response logP(R=- | v_i, c_j)\n",
      "INFO     neoag_dt.optimization.optimization_utils 2023-10-23 19:54:41,908 : adaptive `p_response_factor` is 1 / 6 = 0.16666666666666666\n",
      "2023-10-23 19:54:42,072 - distributed.worker - WARNING - Compute Failed\n",
      "Key:       select_peptides-4d5358f94b6213c011766644e48ce45a\n",
      "Function:  select_peptides\n",
      "args:      (('1000-cells.10x', 0, 1000), {'criterion': 'MinSum', 'budget': 10, 'max_solving_time': 3600, 'simulation_config': 'cells-config.yaml', 'cells_populations_file': 'results/cell-populations.csv', 'approximate_vaccine_element_scores': 'results/vaccine-elements.scores.{}.rep-{}.csv', 'weight_column': None, 'peptides_file': 'peptide-sequences.csv', 'peptide_sequence_column': 'Mut_peptide', 'out': 'results/selected-vaccine-elements.budget-10.minsum.adaptive.csv', 'vaccine_out': 'results/vaccine.budget-10.minsum.adaptive.csv', 'p_response_factor': None, 'vaccine_elements': 'mutations', 'mutation_id_column': 'Mutation_ID'})\n",
      "kwargs:    {'logging_args': Namespace(simulations='optimization-config.yaml', cluster_location='LOCAL', num_procs=1, num_threads_per_proc=1, client_restart=False, log_file='', log_stdout=False, no_log_stderr=False, logging_level='INFO', file_logging_level='NOTSET', stdout_logging_level='NOTSET', stderr_logging_level='NOTSET', seed=42)}\n",
      "Exception: \"KeyError('distance_from_self_scores')\"\n",
      "\n",
      "INFO     neoag_dt.cli.optimize_vaccine_ilp 2023-10-23 19:54:42,073 : optimizing simulation: ('1000-cells.10x', 1, 1000)\n",
      "INFO     neoag_dt.cli.optimize_vaccine_ilp 2023-10-23 19:54:42,073 : loading simulated_cells\n",
      "Traceback (most recent call last):\n",
      "  File \"/Users/nle87788/PycharmProjects/neoagdt/venv/bin/optimize-vaccine-ilp\", line 33, in <module>\n",
      "    sys.exit(load_entry_point('neoag-dt==1.0', 'console_scripts', 'optimize-vaccine-ilp')())\n",
      "  File \"/Users/nle87788/PycharmProjects/neoagdt/neoag_dt/cli/optimize_vaccine_ilp.py\", line 310, in main\n",
      "    run_optimization(optimization_name, optimization_settings, args)\n",
      "  File \"/Users/nle87788/PycharmProjects/neoagdt/neoag_dt/cli/optimize_vaccine_ilp.py\", line 246, in run_optimization\n",
      "    all_peptide_dfs = dask_utils.apply_iter(\n",
      "  File \"/Users/nle87788/PycharmProjects/neoagdt/venv/lib/python3.9/site-packages/pyllars/dask_utils.py\", line 288, in apply_iter\n",
      "    ret_list = [r.result() for r in ret_list]\n",
      "  File \"/Users/nle87788/PycharmProjects/neoagdt/venv/lib/python3.9/site-packages/pyllars/dask_utils.py\", line 288, in <listcomp>\n",
      "    ret_list = [r.result() for r in ret_list]\n",
      "  File \"/Users/nle87788/PycharmProjects/neoagdt/venv/lib/python3.9/site-packages/distributed/client.py\", line 320, in result\n",
      "    return self.client.sync(self._result, callback_timeout=timeout)\n",
      "  File \"/Users/nle87788/PycharmProjects/neoagdt/neoag_dt/cli/optimize_vaccine_ilp.py\", line 167, in select_peptides\n",
      "    df_scores = optimization_utils.approximate_response_scores(\n",
      "  File \"/Users/nle87788/PycharmProjects/neoagdt/neoag_dt/optimization/optimization_utils.py\", line 77, in approximate_response_scores\n",
      "    dfs_map = get_dfs(optimization_config)\n",
      "  File \"/Users/nle87788/PycharmProjects/neoagdt/neoag_dt/optimization/optimization_utils.py\", line 178, in get_dfs\n",
      "    if optimization_config['distance_from_self_scores'] is not None:\n",
      "KeyError: 'distance_from_self_scores'\n",
      "2023-10-23 19:54:42,087 - distributed.worker.state_machine - WARNING - Async instruction for <Task cancelled name='execute(select_peptides-63f4caf6e04c6e60f494ca9d8392fc5b)' coro=<Worker.execute() done, defined at /Users/nle87788/PycharmProjects/neoagdt/venv/lib/python3.9/site-packages/distributed/worker_state_machine.py:3608>> ended with CancelledError\n",
      "INFO     neoag_dt.cli.optimize_vaccine_ilp 2023-10-23 19:54:42,090 : loading vaccine element candidates\n",
      "INFO     neoag_dt.cli.optimize_vaccine_ilp 2023-10-23 19:54:42,093 : approximating log-probabilities of no response logP(R=- | v_i, c_j)\n",
      "INFO     neoag_dt.optimization.optimization_utils 2023-10-23 19:54:42,095 : adaptive `p_response_factor` is 1 / 5 = 0.2\n",
      "  0%|          | 0/10 [00:02<?, ?it/s]\n"
     ]
    },
    {
     "data": {
      "text/plain": [
       "1"
      ]
     },
     "execution_count": 7,
     "metadata": {},
     "output_type": "execute_result"
    }
   ],
   "source": [
    "# Optimization of vaccine composition based on the previously generated cells\n",
    "import subprocess\n",
    "subprocess.call(\"optimize-vaccine-ilp optimization-config.yaml --num-procs 1 --num-threads-per-proc 1 --logging-level INFO\", shell=True)"
   ]
  },
  {
   "cell_type": "code",
   "execution_count": null,
   "metadata": {},
   "outputs": [],
   "source": []
  }
 ],
 "metadata": {
  "kernelspec": {
   "display_name": "Python 3 (ipykernel)",
   "language": "python",
   "name": "python3"
  },
  "language_info": {
   "codemirror_mode": {
    "name": "ipython",
    "version": 3
   },
   "file_extension": ".py",
   "mimetype": "text/x-python",
   "name": "python",
   "nbconvert_exporter": "python",
   "pygments_lexer": "ipython3",
   "version": "3.9.6"
  }
 },
 "nbformat": 4,
 "nbformat_minor": 4
}
