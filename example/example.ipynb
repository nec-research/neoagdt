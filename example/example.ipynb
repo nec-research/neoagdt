{
 "cells": [
  {
   "cell_type": "markdown",
   "metadata": {
    "collapsed": false,
    "jupyter": {
     "outputs_hidden": false
    },
    "pycharm": {
     "name": "#%% md\n"
    }
   },
   "source": [
    "# NeoAgDT usage example\n",
    "This notebook can be run step by step or the commands can be directly out into a console. All files that are generated are already present, it is possible to skip steps and only view results for example.\n",
    "This example is based on randomly generated data and has no biological meaning."
   ]
  },
  {
   "cell_type": "code",
   "execution_count": null,
   "metadata": {
    "collapsed": false,
    "jupyter": {
     "outputs_hidden": false
    },
    "pycharm": {
     "name": "#%%\n"
    }
   },
   "outputs": [],
   "source": [
    "# Simulation of the individual cells stored in cell-population.csv\n",
    "import subprocess\n",
    "subprocess.call(\"simulate-cancer-cells cells-config.yaml --logging-level INFO\", shell=True)"
   ]
  },
  {
   "cell_type": "code",
   "execution_count": null,
   "metadata": {
    "collapsed": false,
    "jupyter": {
     "outputs_hidden": false
    },
    "pycharm": {
     "name": "#%%\n"
    }
   },
   "outputs": [],
   "source": [
    "# Optimization of vaccine composition based on the previously generated cells\n",
    "import subprocess\n",
    "subprocess.call(\"optimize-vaccine-ilp optimization-config.yaml --num-procs 1 --num-threads-per-proc 1 --logging-level INFO\", shell=True)"
   ]
  },
  {
   "cell_type": "code",
   "execution_count": null,
   "metadata": {},
   "outputs": [],
   "source": [
    "# Evaluation of vaccine response and creation of plots\n",
    "import subprocess\n",
    "subprocess.call(\"create-bar-chart bar-charts-config.yaml --logging-level INFO\", shell=True)\n",
    "subprocess.call(\"evaluate-vaccine-response response-likelihood-config.yaml --logging-level INFO\", shell=True)"
   ]
  }
 ],
 "metadata": {
  "kernelspec": {
   "display_name": "Python 3 (ipykernel)",
   "language": "python",
   "name": "python3"
  },
  "language_info": {
   "codemirror_mode": {
    "name": "ipython",
    "version": 3
   },
   "file_extension": ".py",
   "mimetype": "text/x-python",
   "name": "python",
   "nbconvert_exporter": "python",
   "pygments_lexer": "ipython3",
   "version": "3.9.6"
  }
 },
 "nbformat": 4,
 "nbformat_minor": 4
}