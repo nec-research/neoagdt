{
 "cells": [
  {
   "cell_type": "markdown",
   "metadata": {
    "collapsed": true,
    "pycharm": {
     "name": "#%% md\n"
    }
   },
   "source": [
    "## Create FASTA files from tandem mini genes\n",
    "\n",
    "Imports and data loading"
   ]
  },
  {
   "cell_type": "code",
   "execution_count": null,
   "metadata": {
    "pycharm": {
     "name": "#%%\n"
    }
   },
   "outputs": [],
   "source": [
    "import pandas as pd\n",
    "import numpy as np\n",
    "\n",
    "df_dict = pd.read_excel(\n",
    "    '/mnt/container-nle-neoagdt/data/tran2015_supp/tran_patients_tmg.xlsx', engine='openpyxl', sheet_name=None)"
   ]
  },
  {
   "cell_type": "markdown",
   "metadata": {},
   "source": [
    "Generation of FASTA file from table"
   ]
  },
  {
   "cell_type": "code",
   "execution_count": null,
   "metadata": {
    "pycharm": {
     "name": "#%%VV\n"
    }
   },
   "outputs": [],
   "source": [
    "def get_identifier(dfrow):\n",
    "    pos = ''.join([str(dfrow['AA Position']), str(dfrow['Wt AA']), '>', str(dfrow['Mut AA'])])\n",
    "    return '_'.join([str(dfrow['Gene']), pos])\n",
    "\n",
    "for sample in df_dict:\n",
    "    iddone = list()\n",
    "    f = open('/mnt/container-nle-neoagdt/data/tran2015/{}/{}.fasta'.format(sample, sample), 'w')\n",
    "    for i in df_dict[sample].index:\n",
    "        seq = df_dict[sample].iloc[i]['Mut-25mer']\n",
    "        if seq is not np.nan:\n",
    "            identifier = get_identifier(df_dict[sample].iloc[i])\n",
    "            if identifier not in iddone:\n",
    "                f.write('>{}\\n'.format(identifier))\n",
    "                f.write('{}\\n'.format(str(seq)))\n",
    "                iddone.append(identifier)\n",
    "    f.close()"
   ]
  },
  {
   "cell_type": "code",
   "execution_count": null,
   "metadata": {},
   "outputs": [],
   "source": []
  }
 ],
 "metadata": {
  "kernelspec": {
   "display_name": "Python 3 (ipykernel)",
   "language": "python",
   "name": "python3"
  },
  "language_info": {
   "codemirror_mode": {
    "name": "ipython",
    "version": 3
   },
   "file_extension": ".py",
   "mimetype": "text/x-python",
   "name": "python",
   "nbconvert_exporter": "python",
   "pygments_lexer": "ipython3",
   "version": "3.9.7"
  }
 },
 "nbformat": 4,
 "nbformat_minor": 1
}