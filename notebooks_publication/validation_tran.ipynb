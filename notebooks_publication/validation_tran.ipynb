{
 "cells": [
  {
   "cell_type": "markdown",
   "id": "668d3ad6",
   "metadata": {},
   "source": [
    "## Validation of vaccine composition\n",
    "### Imports and constants"
   ]
  },
  {
   "cell_type": "code",
   "execution_count": null,
   "id": "15a021c7",
   "metadata": {},
   "outputs": [],
   "source": [
    "import pandas as pd\n",
    "import numpy as np\n",
    "import os\n",
    "\n",
    "basepath = \"/mnt/container-nle-neoagdt/data/\"\n",
    "suppdir = \"tran2015_supp\"\n",
    "basedir = \"tran2015\"\n",
    "vacfile = \"analysis/vaccines/selected-vaccine-elements.budget-10.minsum.adaptive.csv\"\n",
    "predfile = \"MHC_Class_I/{}.all_epitopes.tsv\"\n",
    "\n",
    "# Generate gene mapping dict\n",
    "genemap = dict()\n",
    "with open(os.path.join(basepath, 'genenames_mapping.txt'), 'r') as fh:\n",
    "    for row in fh:\n",
    "        columns = row.split('\\t')\n",
    "        genemap[columns[1].upper()] = columns[10] # alternatively column 12\n",
    "        genemap[columns[10].upper()] = columns[10]\n",
    "        for i in [4, 5, 7]:\n",
    "            if columns[i] is not None:\n",
    "                csplit = columns[i].split(',')\n",
    "                for altname in csplit:\n",
    "                        genemap[altname.strip().upper()] = columns[10]\n",
    "samples = [x for x in os.listdir(os.path.join(basepath, basedir)) if x.isnumeric()]\n",
    "# Excluding sample 3971 since it is not present in the supplementary mutation tables\n",
    "samples.remove('3971')\n",
    "# Excluding sample 4069 since it has too few mutations\n",
    "samples.remove('4069')"
   ]
  },
  {
   "cell_type": "markdown",
   "id": "1a28ae0d",
   "metadata": {},
   "source": [
    "### Functions"
   ]
  },
  {
   "cell_type": "code",
   "execution_count": null,
   "id": "078c6027",
   "metadata": {},
   "outputs": [],
   "source": [
    "def load_confirmed_mutations():\n",
    "    return pd.read_csv(os.path.join(basepath, suppdir, 'tran_patients_tcellreaction.txt'), sep='\\t')\n",
    "def get_mutation_id(dfrow):\n",
    "    return ''.join([dfrow['gene'], '_', dfrow['mutation'][0], '>', dfrow['mutation'][-1]])\n",
    "def load_vaccine(sample):\n",
    "    return pd.read_csv(os.path.join(basepath, basedir, sample, vacfile))\n",
    "def get_mutations_pub(sample):\n",
    "    return pd.read_excel(os.path.join(basepath, suppdir, 'tran_patients_mutations.xlsx'),\n",
    "                       sheet_name=sample, skiprows=3, header=None)    \n",
    "def get_mutations_sim(sample):\n",
    "    return pd.read_csv(os.path.join(basepath, basedir, sample, 'variants.csv'))\n",
    "def get_mutations_umap(sample):\n",
    "    try:\n",
    "        df = pd.read_csv(os.path.join(basepath, basedir, sample, 'unmapped_genes.txt'))\n",
    "    except pd.errors.EmptyDataError:\n",
    "        df = pd.DataFrame()\n",
    "    return df\n",
    "def load_selected_elements(sample):\n",
    "    return pd.read_csv(os.path.join(basepath, basedir, sample, vacfile))\n",
    "def load_predictions(sample):\n",
    "    df = pd.read_csv(os.path.join(basepath, basedir, sample, predfile.format(sample)), sep='\\t')\n",
    "                       #usecols=['Mutation', 'Epitope Seq', 'NetMHC Score', 'NetMHC Percentile'])\n",
    "    # Sample specific cleanup\n",
    "    if sample == '3812':\n",
    "        df['Mutation'] = df['Mutation'].apply(lambda x: x.replace('.', ''))\n",
    "    return df"
   ]
  },
  {
   "cell_type": "code",
   "execution_count": null,
   "id": "045e17c5",
   "metadata": {},
   "outputs": [],
   "source": [
    "def get_performance_scores(sim, t_cell_type=\"CD8\"):\n",
    "    sample_list = list()\n",
    "    tp_list = list()\n",
    "    fn_list = list()\n",
    "    recall_list = list()\n",
    "    results = list()\n",
    "    \n",
    "    for sample in samples:  # iterate patients\n",
    "        vac_df = load_selected_elements(sample)\n",
    "        vac_df = vac_df[vac_df[\"simulation_name\"] == sim]\n",
    "\n",
    "        gt_df = df_tcell[(df_tcell['sample'] == sample) & (df_tcell['type'] == t_cell_type)]\n",
    "        gt_mutations = set(gt_df[\"Mutation ID\"].unique())\n",
    "\n",
    "        for i in range(10):  # iterate over repeated simulated cell populations\n",
    "            sample_list.append(sample)\n",
    "\n",
    "            vac_rep_df = vac_df[vac_df[\"repetition\"] == i]\n",
    "            predicted_mutations = set(vac_rep_df[\"peptide\"].unique())\n",
    "\n",
    "            if len(gt_mutations) == 0:\n",
    "                tp_list.append(np.nan)\n",
    "                fn_list.append(np.nan)\n",
    "                recall_list.append(np.nan)\n",
    "            else:\n",
    "                tp = len(gt_mutations.intersection(predicted_mutations))\n",
    "                fn = len(gt_mutations) - len(gt_mutations.intersection(predicted_mutations))\n",
    "                recall = tp / (tp + fn)\n",
    "\n",
    "                tp_list.append(tp)\n",
    "                fn_list.append(fn)\n",
    "                recall_list.append(recall)\n",
    "\n",
    "            results.append(pd.DataFrame(data={\n",
    "                \"sample\": sample_list,\n",
    "                \"tp\": tp_list,\n",
    "                \"fn\": fn_list,\n",
    "                \"recall\": recall_list\n",
    "            }))\n",
    "    \n",
    "    return {\n",
    "        \"mean\": pd.concat(results).groupby('sample').mean(), \n",
    "        \"std\": pd.concat(results).groupby('sample').std()\n",
    "    }"
   ]
  },
  {
   "cell_type": "markdown",
   "id": "e73eb6b3",
   "metadata": {},
   "source": [
    "### Validation\n",
    "#### T cell responses measured by Tran et al."
   ]
  },
  {
   "cell_type": "code",
   "execution_count": null,
   "id": "92260b0d",
   "metadata": {},
   "outputs": [],
   "source": [
    "df_tcell = load_confirmed_mutations()\n",
    "df_tcell['gene'] = df_tcell['gene'].apply(\n",
    "        lambda x: str(genemap[x.split('_')[0].upper()]))\n",
    "df_tcell['Mutation ID'] = df_tcell.apply(get_mutation_id, axis=1)\n",
    "df_tcell['sample'] = df_tcell['sample'].apply(lambda x: str(x))\n",
    "# Remove reaction with unmappable gene\n",
    "df_tcell.drop(index=16, inplace=True)\n",
    "df_tcell"
   ]
  },
  {
   "cell_type": "markdown",
   "id": "91c214ed",
   "metadata": {},
   "source": [
    "#### Genes with mutation that could not be mapped and were excluded from analysis"
   ]
  },
  {
   "cell_type": "code",
   "execution_count": null,
   "id": "51dd81c0",
   "metadata": {},
   "outputs": [],
   "source": [
    "sample_list = list()\n",
    "pubmut_list = list()\n",
    "unmap_list  = list()\n",
    "\n",
    "for sample in samples:\n",
    "    sample_list.append(sample)\n",
    "    df_mp = get_mutations_pub(sample)\n",
    "    df_um = get_mutations_umap(sample)\n",
    "    pubmut_list.append(len(df_mp.index))\n",
    "    unmap_list.append(len(df_um))\n",
    "    \n",
    "df = pd.DataFrame({'sample' : sample_list,\n",
    "                   'mutations' : pubmut_list,           \n",
    "                   'mutations with unmappable genes' : unmap_list})\n",
    "df            "
   ]
  },
  {
   "cell_type": "markdown",
   "id": "ccd2bbc8",
   "metadata": {},
   "source": [
    "#### Comparison to MHC binding and percentile ranking"
   ]
  },
  {
   "cell_type": "code",
   "execution_count": null,
   "id": "5e3d5f35",
   "metadata": {},
   "outputs": [],
   "source": [
    "# Get best prediction score for each mutation\n",
    "\n",
    "pred_m = [\n",
    "    'NetMHC Score', \n",
    "    'NetMHCpan Score', \n",
    "    'NetMHCcons Score', \n",
    "    'MHCflurry Score', \n",
    "    'MHCnuggetsI Score',\n",
    "    'PickPocket Score']\n",
    "rank_m = [\n",
    "    'NetMHC Percentile',\n",
    "    'NetMHCpan Percentile',\n",
    "    'NetMHCcons Percentile', \n",
    "    'MHCflurry Percentile', \n",
    "#    'MHCnuggetsI Percentile',\n",
    "    'PickPocket Percentile']\n",
    "\n",
    "for sample in samples:   \n",
    "    ts_pred = dict()\n",
    "    for m in pred_m: ts_pred[m] = list()\n",
    "    ts_rank = dict()\n",
    "    for m in rank_m: ts_rank[m] = list()\n",
    "    df_pred = load_predictions(sample)\n",
    "    df_pred['Mutation'] = df_pred['Mutation'].apply(\n",
    "        lambda x: '_'.join(\n",
    "            [str(genemap[x.split('_')[0].upper()] if x.split('_')[0].upper() in genemap.keys() else ''), \n",
    "             x.split('_')[1]]\n",
    "        ))\n",
    "    df_pred['Mutation'] = df_pred['Mutation'].apply(\n",
    "        lambda x: '_'.join([x.split('_')[0], ''.join([i for i in x.split('_')[1] if not i.isdigit()])]))\n",
    "    df_mut = get_mutations_sim(sample)\n",
    "    for mut in df_mut['Mutation_ID'].unique():\n",
    "        if mut in df_pred['Mutation'].unique():           \n",
    "            for m in pred_m:\n",
    "                minpred = df_pred[df_pred['Mutation'] == mut][m].idxmin()\n",
    "                if df_pred.loc[minpred][m] <= 500:\n",
    "                    ts_pred[m].append(df_pred.loc[minpred])\n",
    "            for m in rank_m:\n",
    "                minrank = df_pred[df_pred['Mutation'] == mut][m].idxmin()\n",
    "                if df_pred.loc[minrank][m] <= 2:\n",
    "                    ts_rank[m].append(df_pred.loc[minrank])\n",
    "                \n",
    "    # Compare recall of ranking based on Score (<=500 and top 10) and Percentile (<=2.0 and top 10)\n",
    "    print('sample', 'tp', 'fn', 'recall', 'method', 'reaction')\n",
    "    def print_recall(method, reaction, df_list):\n",
    "        df_list_sort = sorted(df_list, key=lambda x: x[method])[:10]        \n",
    "        # Store vaccine compositions\n",
    "        pd.DataFrame([x['Mutation'] for x in df_list_sort]).to_csv(\n",
    "            os.path.join(basepath, basedir, sample, \"{}_{}.txt\".format(sample, method.replace(' ', ''))))\n",
    "        # Get recall\n",
    "        gt_df = df_tcell[(df_tcell['sample'] == sample) & (df_tcell['type'] == reaction)]\n",
    "        if len(gt_df) == 0:\n",
    "            tp = np.NaN\n",
    "            fn = np.NaN\n",
    "            recall = np.NaN\n",
    "        else:\n",
    "            tp = 0\n",
    "            fn = 0\n",
    "            for mut in gt_df['Mutation ID'].tolist():\n",
    "                if mut in [x['Mutation'] for x in df_list_sort]:\n",
    "                    tp += 1\n",
    "                else:\n",
    "                    fn += 1\n",
    "            if tp == 0:\n",
    "                recall = np.NaN\n",
    "            else:\n",
    "                recall = tp / (tp + fn)\n",
    "        print(sample, tp, fn, recall, method, reaction)\n",
    "    for method in pred_m:\n",
    "        print_recall(method, 'CD8', ts_pred[method])\n",
    "    for method in rank_m:\n",
    "        print_recall(method, 'CD8', ts_rank[method])"
   ]
  },
  {
   "cell_type": "markdown",
   "id": "37af0c91",
   "metadata": {},
   "source": [
    "#### CD8 Scores -  1000-cells.10x"
   ]
  },
  {
   "cell_type": "code",
   "execution_count": null,
   "id": "d1c279e8",
   "metadata": {},
   "outputs": [],
   "source": [
    "get_performance_scores(\"1000-cells.10x\")"
   ]
  },
  {
   "cell_type": "markdown",
   "id": "63b9e230",
   "metadata": {},
   "source": [
    "#### CD8 Scores -  10000-cells.10x"
   ]
  },
  {
   "cell_type": "code",
   "execution_count": null,
   "id": "6597a44f",
   "metadata": {},
   "outputs": [],
   "source": [
    "get_performance_scores(\"10000-cells.10x\")"
   ]
  }
 ],
 "metadata": {
  "kernelspec": {
   "display_name": "Python 3 (ipykernel)",
   "language": "python",
   "name": "python3"
  },
  "language_info": {
   "codemirror_mode": {
    "name": "ipython",
    "version": 3
   },
   "file_extension": ".py",
   "mimetype": "text/x-python",
   "name": "python",
   "nbconvert_exporter": "python",
   "pygments_lexer": "ipython3",
   "version": "3.9.7"
  }
 },
 "nbformat": 4,
 "nbformat_minor": 5
}